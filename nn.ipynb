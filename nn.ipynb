{
 "cells": [
  {
   "cell_type": "code",
   "execution_count": 1,
   "id": "3bf0a066-f1c2-454e-9c67-db8983f45251",
   "metadata": {},
   "outputs": [],
   "source": [
    "import torch\n",
    "import torch.nn as nn\n",
    "from sklearn.preprocessing import MinMaxScaler\n",
    "import numpy as np"
   ]
  },
  {
   "cell_type": "code",
   "execution_count": 2,
   "id": "79ea3ca9-9ae7-46b0-bfe0-fe805cba6f3c",
   "metadata": {},
   "outputs": [],
   "source": [
    "data = np.array([\n",
    "    [96, 100, 104, 108],\n",
    "    [100, 104, 108, 112],\n",
    "    [104, 108, 112, 116],\n",
    "    [108, 112, 116, 120],\n",
    "    [112, 116, 120, 124],\n",
    "    [116, 120, 124, 128],\n",
    "    [120, 124, 128, 132],\n",
    "    [124, 128, 132, 136],\n",
    "    [128, 132, 136, 140],\n",
    "    [132, 136, 140, 144],\n",
    "    [136, 140, 144, 148],\n",
    "    [140, 144, 148, 152],\n",
    "    [144, 148, 152, 156],\n",
    "    [148, 152, 156, 160],\n",
    "    [152, 156, 160, 164],\n",
    "    [156, 160, 164, 168],\n",
    "    [160, 164, 168, 172],\n",
    "    [164, 168, 172, 176],\n",
    "    [168, 172, 176, 180],\n",
    "    [172, 176, 180, 184],\n",
    "    [176, 180, 184, 188],\n",
    "    [180, 184, 188, 192],\n",
    "    [184, 188, 192, 196],\n",
    "    [188, 192, 196, 200],\n",
    "    [192, 196, 200, 204],\n",
    "    [196, 200, 204, 208],\n",
    "    [200, 204, 208, 212],\n",
    "    [204, 208, 212, 216],\n",
    "    [208, 212, 216, 220],\n",
    "    [212, 216, 220, 224],\n",
    "    [216, 220, 224, 228],\n",
    "    [220, 224, 228, 232],\n",
    "    [224, 228, 232, 236],\n",
    "    [228, 232, 236, 240],\n",
    "    [232, 236, 240, 244],\n",
    "    [236, 240, 244, 248],\n",
    "    [240, 244, 248, 252],\n",
    "    [244, 248, 252, 256],\n",
    "    [248, 252, 256, 260],\n",
    "    [252, 256, 260, 264],\n",
    "    [256, 260, 264, 268],\n",
    "    [260, 264, 268, 272],\n",
    "    [264, 268, 272, 276],\n",
    "    [268, 272, 276, 280],\n",
    "    [272, 276, 280, 284],\n",
    "    [276, 280, 284, 288],\n",
    "    [280, 284, 288, 292],\n",
    "    [284, 288, 292, 296],\n",
    "    [288, 292, 296, 300],\n",
    "    [292, 296, 300, 304],\n",
    "    [296, 300, 304, 308],\n",
    "    [300, 304, 308, 312],\n",
    "    [304, 308, 312, 316],\n",
    "    [308, 312, 316, 320],\n",
    "    [312, 316, 320, 324],\n",
    "    [316, 320, 324, 328],\n",
    "    [320, 324, 328, 332],\n",
    "    [324, 328, 332, 336],\n",
    "    [328, 332, 336, 340],\n",
    "    [332, 336, 340, 344],\n",
    "    [336, 340, 344, 348],\n",
    "    [340, 344, 348, 352],\n",
    "    [344, 348, 352, 356],\n",
    "    [348, 352, 356, 360],\n",
    "    [352, 356, 360, 364],\n",
    "    [356, 360, 364, 368],\n",
    "    [360, 364, 368, 372],\n",
    "    [364, 368, 372, 376],\n",
    "    [368, 372, 376, 380],\n",
    "    [372, 376, 380, 384],\n",
    "    [376, 380, 384, 388],\n",
    "    [380, 384, 388, 392],\n",
    "    [384, 388, 392, 396],\n",
    "    [388, 392, 396, 400],\n",
    "    [392, 396, 400, 404],\n",
    "    [396, 400, 404, 408],\n",
    "    [400, 404, 408, 412],\n",
    "    [404, 408, 412, 416],\n",
    "    [408, 412, 416, 420],\n",
    "    [412, 416, 420, 424],\n",
    "    [416, 420, 424, 428],\n",
    "    [420, 424, 428, 432],\n",
    "    [424, 428, 432, 436],\n",
    "    [428, 432, 436, 440],\n",
    "    [432, 436, 440, 444],\n",
    "    [436, 440, 444, 448],\n",
    "    [440, 444, 448, 452],\n",
    "    [444, 448, 452, 456],\n",
    "    [448, 452, 456, 460],\n",
    "    [452, 456, 460, 464],\n",
    "    [456, 460, 464, 468],\n",
    "    [460, 464, 468, 472],\n",
    "    [464, 468, 472, 476],\n",
    "    [468, 472, 476, 480],\n",
    "    [472, 476, 480, 484],\n",
    "    [476, 480, 484, 488],\n",
    "    [480, 484, 488, 492],\n",
    "    [484, 488, 492, 496],\n",
    "    [488, 492, 496, 500]\n",
    "])\n",
    "X = data[:,:-1] #input\n",
    "Y = data[:,-1:] #output(only last column)"
   ]
  },
  {
   "cell_type": "code",
   "execution_count": 3,
   "id": "21cad1a3-8dc6-4c1a-a216-78e04cd3aaad",
   "metadata": {},
   "outputs": [],
   "source": [
    "scaler_x = MinMaxScaler()\n",
    "scaler_y = MinMaxScaler()\n",
    "X = scaler_x.fit_transform(X)\n",
    "Y = scaler_y.fit_transform(Y)"
   ]
  },
  {
   "cell_type": "code",
   "execution_count": 4,
   "id": "0ef6ae8b-a10f-4f91-9490-d0b9ac2dfc54",
   "metadata": {},
   "outputs": [],
   "source": [
    "x = torch.tensor(X,dtype=torch.float32)\n",
    "y = torch.tensor(Y,dtype=torch.float32)"
   ]
  },
  {
   "cell_type": "code",
   "execution_count": 5,
   "id": "a5299e90-c1a7-4c33-a388-c658c0289f26",
   "metadata": {},
   "outputs": [],
   "source": [
    "N,D_in = x.shape #(5,3) : Number of Samples, Input features\n",
    "H = 10 # Hidden Layers\n",
    "D_out = 1 #Output size\n",
    "\n"
   ]
  },
  {
   "cell_type": "code",
   "execution_count": 6,
   "id": "7d2b8115-da05-44bb-9ecf-11bb4a0ad23a",
   "metadata": {},
   "outputs": [],
   "source": [
    "model = nn.Sequential(\n",
    "    nn.Linear(D_in,H), #3 inputs, 10 outputs => Fully connected layer\n",
    "    nn.ReLU(), #ReLU activation function to introduce non-linearity => Activation layer\n",
    "    nn.Linear(H,D_out) #10 inputs, 1 output => Output layer\n",
    ")"
   ]
  },
  {
   "cell_type": "code",
   "execution_count": 13,
   "id": "f8c29357-8932-4bda-8b21-828e81a55b76",
   "metadata": {},
   "outputs": [],
   "source": [
    "lossFunction = torch.nn.MSELoss() \n",
    "optimizer = torch.optim.SGD(model.parameters(), lr=0.001,weight_decay=0.04) #SGD(weight and biases, adjustment to weight and biases, decay prevents overfitting)\n",
    "epochs = 10000"
   ]
  },
  {
   "cell_type": "code",
   "execution_count": 14,
   "id": "3c52ed5b-67de-4383-abd6-d91e309ed4a9",
   "metadata": {},
   "outputs": [
    {
     "name": "stdout",
     "output_type": "stream",
     "text": [
      "Epoch 1000/10000, Loss: 0.05094953998923302\n",
      "Epoch 2000/10000, Loss: 0.030080169439315796\n",
      "Epoch 3000/10000, Loss: 0.017933830618858337\n",
      "Epoch 4000/10000, Loss: 0.01113150455057621\n",
      "Epoch 5000/10000, Loss: 0.007275212090462446\n",
      "Epoch 6000/10000, Loss: 0.0050397892482578754\n",
      "Epoch 7000/10000, Loss: 0.0037250060122460127\n",
      "Epoch 8000/10000, Loss: 0.002930709859356284\n",
      "Epoch 9000/10000, Loss: 0.0024406162556260824\n",
      "Epoch 10000/10000, Loss: 0.002131371758878231\n"
     ]
    }
   ],
   "source": [
    "for epoch in range(epochs):\n",
    "    y_pred = model(x)\n",
    "    loss = lossFunction(y_pred,y)\n",
    "    if (epoch + 1) % 1000 == 0:\n",
    "        print(f'Epoch {epoch + 1}/{epochs}, Loss: {loss.item()}') \n",
    "    optimizer.zero_grad()\n",
    "    loss.backward() #Backpropogation\n",
    "    optimizer.step() #update parameters\n",
    "\n"
   ]
  },
  {
   "cell_type": "code",
   "execution_count": 17,
   "id": "599328cc-defa-45a2-b9c2-e1dd3b3c0863",
   "metadata": {},
   "outputs": [
    {
     "name": "stdout",
     "output_type": "stream",
     "text": [
      "Predicted Stock Value: 153.19761657714844\n"
     ]
    }
   ],
   "source": [
    "\n",
    "test_data = np.array([[120, 124, 128]])  # Example test input\n",
    "test_data = scaler_x.fit_transform(test_data)  # Normalize the test data\n",
    "test_tensor = torch.tensor(test_data, dtype=torch.float32)\n",
    "predicted_value = model(test_tensor).detach().numpy()\n",
    "# predicted_value = predicted_value.reshape(1, -1)\n",
    "predicted_value = scaler_y.inverse_transform(predicted_value)  # Denormalize\n",
    "\n",
    "print(f'Predicted Stock Value: {predicted_value[0][0]}')"
   ]
  },
  {
   "cell_type": "code",
   "execution_count": null,
   "id": "5cc9c18e-7a56-4bbc-9118-660b8acc588d",
   "metadata": {},
   "outputs": [],
   "source": []
  }
 ],
 "metadata": {
  "kernelspec": {
   "display_name": "Python [conda env:base] *",
   "language": "python",
   "name": "conda-base-py"
  },
  "language_info": {
   "codemirror_mode": {
    "name": "ipython",
    "version": 3
   },
   "file_extension": ".py",
   "mimetype": "text/x-python",
   "name": "python",
   "nbconvert_exporter": "python",
   "pygments_lexer": "ipython3",
   "version": "3.12.7"
  }
 },
 "nbformat": 4,
 "nbformat_minor": 5
}
